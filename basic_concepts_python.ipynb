{
  "nbformat": 4,
  "nbformat_minor": 0,
  "metadata": {
    "colab": {
      "name": "basic-concepts-python",
      "provenance": [],
      "collapsed_sections": [
        "zyrU-P7Uy9S1"
      ],
      "authorship_tag": "ABX9TyPMJxwW0xXZ+aS6IIaY7g8w",
      "include_colab_link": true
    },
    "kernelspec": {
      "name": "python3",
      "display_name": "Python 3"
    }
  },
  "cells": [
    {
      "cell_type": "markdown",
      "metadata": {
        "id": "view-in-github",
        "colab_type": "text"
      },
      "source": [
        "<a href=\"https://colab.research.google.com/github/williamgomes62/python-codes/blob/main/basic_concepts_python.ipynb\" target=\"_parent\"><img src=\"https://colab.research.google.com/assets/colab-badge.svg\" alt=\"Open In Colab\"/></a>"
      ]
    },
    {
      "cell_type": "markdown",
      "metadata": {
        "id": "lCD0nelOwbFC"
      },
      "source": [
        "#Data input"
      ]
    },
    {
      "cell_type": "code",
      "metadata": {
        "id": "gK37LhwFwjVg"
      },
      "source": [
        "var = input() #receive input as string\n",
        "varInt = int(input()) #converts the input to int\n",
        "varFloat = float(input()) #converts the input to float2"
      ],
      "execution_count": null,
      "outputs": []
    },
    {
      "cell_type": "markdown",
      "metadata": {
        "id": "zyrU-P7Uy9S1"
      },
      "source": [
        "#Data printing"
      ]
    },
    {
      "cell_type": "code",
      "metadata": {
        "id": "yEbK4JMlzB4Q"
      },
      "source": [
        "print(\"Data printing: \\n\")\n",
        "print(\"string = %s\" %(var))\n",
        "print(\"Integer = %d\" %(varInt))\n",
        "print(\"Float = %.2f\" %(varFloat))\n",
        "\n",
        "print(\"The string value is: %s. The integer value is: %d. The float value is: %.2f\"\n",
        " % (var,varInt,varFloat)\n",
        ")  "
      ],
      "execution_count": null,
      "outputs": []
    },
    {
      "cell_type": "markdown",
      "metadata": {
        "id": "3-TlVnQg0JsJ"
      },
      "source": [
        "#Comments"
      ]
    },
    {
      "cell_type": "code",
      "metadata": {
        "id": "oxoP_rjB0Mtb"
      },
      "source": [
        "#This is a line comment\n",
        "\n",
        "'''This is a block comment'''\n",
        "\n",
        "\"\"\"\"This is a docstring comment\"\"\""
      ],
      "execution_count": 6,
      "outputs": []
    },
    {
      "cell_type": "markdown",
      "metadata": {
        "id": "-Yxyd7G02kI2"
      },
      "source": [
        "#Conditionals structures"
      ]
    },
    {
      "cell_type": "code",
      "metadata": {
        "id": "BpTZT8lO2t9M"
      },
      "source": [
        "print(\"Inserts a integer number(grade) in range 0...10: \")\n",
        "grade = int(input())\n",
        "\n",
        "#Simple conditional\n",
        "if grade >= 6 :\n",
        "  print(\"You are aproved!\")\n",
        "else\n",
        "  print(\"You are reproved!\")\n",
        "\n",
        "#Multiple conditionals\n",
        "if grade >= 6:\n",
        "  print(\"You are aproved!\")\n",
        "elif grade < 6 and grade > 4:\n",
        "  print(\"You are in recuperation...\")\n",
        "else:\n",
        "  print(\"You are reproved.\")\n"
      ],
      "execution_count": null,
      "outputs": []
    },
    {
      "cell_type": "markdown",
      "metadata": {
        "id": "HPqStPB9XI07"
      },
      "source": [
        "#Vectors and Matrices"
      ]
    },
    {
      "cell_type": "code",
      "metadata": {
        "id": "no4k9B7FXYPB"
      },
      "source": [
        "vec = []\n",
        "vec2 = [1,2,3,4,5,6,7,8,9]\n",
        "mat = [[1,2,3],\n",
        "       [4,5,6]\n",
        "      ]\n",
        "\n",
        "print(vec2[0])\n",
        "print(mat[0][2])\n",
        "print(vec2[-1]) #reverse position\n"
      ],
      "execution_count": null,
      "outputs": []
    },
    {
      "cell_type": "markdown",
      "metadata": {
        "id": "_KcUixK96SbV"
      },
      "source": [
        "#Repeating structures"
      ]
    },
    {
      "cell_type": "code",
      "metadata": {
        "id": "DTgvDplbTWzL"
      },
      "source": [
        "#while\n",
        "#Printing a multiplication table\n",
        "\n",
        "multiplier = 1\n",
        "while multiplier <= 10:\n",
        "  multiplicand = 1\n",
        "  print(\"\\n-----Multiplication table of %d-----\\n\" %(multiplier))\n",
        "  while multiplicand <= 10:\n",
        "    print(\"%d x %d = %d\" %(multiplier, multiplicand, multiplier * multiplicand))\n",
        "    multiplicand += 1\n",
        "  multiplier += 1"
      ],
      "execution_count": null,
      "outputs": []
    },
    {
      "cell_type": "code",
      "metadata": {
        "id": "cgqh5tq7W4DW"
      },
      "source": [
        "#for\n",
        "\n",
        "print(\"Printing vector elements\")\n",
        "for i in vec2:\n",
        "  print(i)\n",
        "\n",
        "print(\"\\nPrinting position|value\")\n",
        "for j in range(len(vec2)):\n",
        "  print(j, vec2[j])"
      ],
      "execution_count": null,
      "outputs": []
    },
    {
      "cell_type": "code",
      "metadata": {
        "id": "wpPhqgyqaDHX"
      },
      "source": [
        "#reverse for\n",
        "\n",
        "for i in range(10, 0, -1):\n",
        "  print(i)"
      ],
      "execution_count": null,
      "outputs": []
    },
    {
      "cell_type": "code",
      "metadata": {
        "id": "BNungnvJaRDa"
      },
      "source": [
        "#traversing matrix\n",
        "\n",
        "for line in mat:\n",
        "  for column in line:\n",
        "    print(column, end=\" \")\n",
        "  print(\" \")"
      ],
      "execution_count": null,
      "outputs": []
    },
    {
      "cell_type": "markdown",
      "metadata": {
        "id": "Guh8TP7ibgOx"
      },
      "source": [
        "#Functions"
      ]
    },
    {
      "cell_type": "code",
      "metadata": {
        "id": "svme5vvnbjKh"
      },
      "source": [
        "def multiplication(x, y):\n",
        "  return x, y, x * y\n",
        "\n",
        "print(multiplication(3,2))"
      ],
      "execution_count": null,
      "outputs": []
    },
    {
      "cell_type": "markdown",
      "metadata": {
        "id": "wNFd2ldzcIPm"
      },
      "source": [
        "#Dictionaries"
      ]
    },
    {
      "cell_type": "code",
      "metadata": {
        "id": "zzO71pRvcK7t"
      },
      "source": [
        "dictionary = {}\n",
        "\n",
        "dictionary[\"Python\"] = \"Is a programming language\"\n",
        "print(dictionary)\n",
        "\n",
        "dictionary2 = {\"Aplle\": \"Is a fruit\", \"Dog\": \"Is a animal\"}\n",
        "print(dictionary2)"
      ],
      "execution_count": null,
      "outputs": []
    },
    {
      "cell_type": "markdown",
      "metadata": {
        "id": "u-xSXzQ2gezc"
      },
      "source": [
        "#Objects"
      ]
    },
    {
      "cell_type": "code",
      "metadata": {
        "id": "R8fwgeSLgmB6"
      },
      "source": [
        "#object definition\n",
        "class Person:\n",
        "\n",
        "  def __init__(self, name, address, birth):\n",
        "    self.name = name\n",
        "    self.address = address\n",
        "    self.birth = birth\n",
        "\n",
        "  def setAddress(self, newAddress):\n",
        "    self.address = newAddress\n",
        "\n",
        "  def getAddress(self):\n",
        "    return self.address\n",
        "  \n",
        "  def getPersonalInformation(self):\n",
        "    print(\"Name: %s\\nAddress: %s\\nBirth: %s\\n\" %(self.name, self.address, self.birth))\n"
      ],
      "execution_count": 51,
      "outputs": []
    },
    {
      "cell_type": "code",
      "metadata": {
        "id": "B8qsRZj0iInx"
      },
      "source": [
        "#object test\n",
        "\n",
        "joao = Person(\"João\", \"Alameda,91\", \"21/05/99\")\n",
        "joao.getPersonalInformation()\n",
        "\n",
        "joao.setAddress(\"Third Avenue,43\")\n",
        "joao.getAddress()"
      ],
      "execution_count": null,
      "outputs": []
    }
  ]
}